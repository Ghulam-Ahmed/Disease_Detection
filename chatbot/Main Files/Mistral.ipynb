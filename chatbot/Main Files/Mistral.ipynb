{
 "cells": [
  {
   "cell_type": "code",
   "execution_count": 6,
   "metadata": {},
   "outputs": [
    {
     "name": "stdout",
     "output_type": "stream",
     "text": [
      "<class 'list'>\n",
      "{'page_content': 'Hey Just wondering.  I am a 39 year old female, pretty smallMy heart rate is around 97 to 106 at rest, and my BP is 140/90 and twice I get 175/118I did visit a doctor because I  didnt feel well past month or twoThen the doctor gave me a heart medicine to take the pulse down and BP  (its still in further examination.)But I wondering what it can be? Do I need the medicine really?  Is that bad ?', 'answer': \"hello and thank you for using chatbot. i carefully read your question and i understand your concern. i will try to explain you something and give you my opinion. we talk about hypertension if we have mean value that exceeds 140 / 90 mmhg. a person might have high value during emotional and physicals trees so it's mandatory to judge on mean values. usaly hypertension does not give any symptoms but left untreated he slowly modifies the heart. according to heart rhythm, the normal rate is between 50-100 beat for minute. when it exceeds 100 we talk about sinus tachycardia. this might have different causes to simple emotional stress, physical activity, coffee consumption or pathologies like anemia, hyperthyroidism. so if we diagnose hypertension and rhythm issue we have to find they cause and of course treat them. if you treat the hypertension than you have nothing to worry. if i was your treating doctor i will recommend some examination like an electrocardiogram, a cardiac echo, a full blood analyze, a holder rhythm and pressure monitoring. this gives a better view how to treat the problem, medical or not. but as you catch values up to 170 i think medical treatment is necessary. hope i was helpful. wish you good health. best regards.\"}\n"
     ]
    }
   ],
   "source": [
    "# update code\n",
    "from datasets import load_dataset\n",
    "from langchain.text_splitter import RecursiveCharacterTextSplitter\n",
    "from langchain.schema import Document\n",
    "\n",
    "# Load data from the Hugging Face dataset\n",
    "dataset = load_dataset(\"Malikeh1375/medical-question-answering-datasets\", \"all-processed\")\n",
    "\n",
    "# Since the dataset may contain multiple splits (e.g., train, test), select the relevant split\n",
    "# Here we are selecting the 'train' split as an example\n",
    "data = dataset['train']\n",
    "\n",
    "# Extract text data (adjust according to the actual structure of your dataset)\n",
    "# Include both 'input' and 'output' fields\n",
    "documents = [Document(page_content=item['input'], metadata={'answer': item['output']}) for item in data]\n",
    "\n",
    "# Text splitting\n",
    "text_splitter = RecursiveCharacterTextSplitter(\n",
    "    chunk_size=600,\n",
    "    chunk_overlap=0,\n",
    ")\n",
    "\n",
    "# Split the documents and maintain both fields\n",
    "split_text = []\n",
    "for doc in documents:\n",
    "    chunks = text_splitter.split_documents([doc])\n",
    "    for chunk in chunks:\n",
    "        split_text.append({\n",
    "            \"page_content\": chunk.page_content,\n",
    "            \"answer\": doc.metadata['answer']\n",
    "        })\n",
    "\n",
    "# Print the type and first chunk of split text for verification\n",
    "print(type(split_text))\n",
    "print(split_text[0])\n",
    "\n"
   ]
  },
  {
   "cell_type": "code",
   "execution_count": 8,
   "metadata": {},
   "outputs": [],
   "source": [
    "# from langchain_huggingface import HuggingFaceEmbeddings  \n",
    "# from langchain_community.vectorstores import Chroma\n",
    "\n",
    "# persist_directory = \"D:\\\\DiagnoTechHub\\\\FYP\\\\Final Chatbot\\\\AllMini-L6\"\n",
    "# vectorDB = Chroma.from_documents(split_text,embedding_function=HuggingFaceEmbeddings(model_name=\"sentence-transformers/all-MiniLM-L6-v2\"))\n",
    "\n",
    "# # Persist the database to disk\n",
    "# vectorDB.persist()"
   ]
  },
  {
   "cell_type": "code",
   "execution_count": 7,
   "metadata": {},
   "outputs": [],
   "source": [
    "# Loading the Vector Database\n",
    "from langchain.embeddings import HuggingFaceEmbeddings\n",
    "from langchain_community.embeddings import OllamaEmbeddings\n",
    "from langchain_community.vectorstores import Chroma\n",
    "\n",
    "persist_directory = \"D:\\\\Uni Work\\\\FYP\\\\Integration\\\\chatbot\\\\AllMini-L6\"\n",
    "vectorDB = Chroma(persist_directory=persist_directory, embedding_function=OllamaEmbeddings(model=\"all-minilm:l6-v2\"))\n"
   ]
  },
  {
   "cell_type": "code",
   "execution_count": 8,
   "metadata": {},
   "outputs": [],
   "source": [
    "from langchain_core.prompts import ChatPromptTemplate\n",
    "\n",
    "prompt = ChatPromptTemplate.from_template(\n",
    "        template=(\"\"\"\n",
    "        You are a helpful assistant. You can answer questions about query.\n",
    "        {context}\n",
    "\n",
    "        Question:{input}\n",
    "        \"\"\")       \n",
    ")"
   ]
  },
  {
   "cell_type": "code",
   "execution_count": 9,
   "metadata": {},
   "outputs": [
    {
     "data": {
      "text/plain": [
       "\"Sure, here's a definition of atelectasis:\\n\\n**Atelectasis** is a condition in which the lungs fail to expand properly. This can be caused by a number of underlying medical conditions, including asthma, bronchitis, pneumonia, and heart failure. Symptoms of atelectasis can include shortness of breath, coughing, chest pain, and rapid breathing.\""
      ]
     },
     "execution_count": 9,
     "metadata": {},
     "output_type": "execute_result"
    }
   ],
   "source": [
    "from langchain_community.llms import Ollama\n",
    "from langchain.chains.combine_documents import create_stuff_documents_chain\n",
    "from langchain.chains import create_retrieval_chain\n",
    "\n",
    "llm = Ollama(model=\"gemma:2b\")\n",
    "\n",
    "# prompt chain\n",
    "doc_chain = create_stuff_documents_chain(llm,prompt)\n",
    "\n",
    "# configures the vectorDB object to act as a retriever for finding similar items to a given query\n",
    "retiver = vectorDB.as_retriever()\n",
    "\n",
    "\n",
    "#  combines the retriever and the document processing chain (doc_chain) into a single retrieval chain. chain used to retrieve and process documents based on a query\n",
    "retrival_chain = create_retrieval_chain(retiver,doc_chain)\n",
    "\n",
    "responce = retrival_chain.invoke({\"input\":\"define is atelectasis?\"})\n",
    "responce['answer']\n",
    "# responce"
   ]
  },
  {
   "cell_type": "code",
   "execution_count": null,
   "metadata": {},
   "outputs": [],
   "source": []
  }
 ],
 "metadata": {
  "kernelspec": {
   "display_name": "langchain-env",
   "language": "python",
   "name": "python3"
  },
  "language_info": {
   "codemirror_mode": {
    "name": "ipython",
    "version": 3
   },
   "file_extension": ".py",
   "mimetype": "text/x-python",
   "name": "python",
   "nbconvert_exporter": "python",
   "pygments_lexer": "ipython3",
   "version": "3.10.9"
  }
 },
 "nbformat": 4,
 "nbformat_minor": 2
}
